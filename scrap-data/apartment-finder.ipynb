{
 "cells": [
  {
   "cell_type": "markdown",
   "metadata": {},
   "source": [
    "## This code scraches the http://www.apartmentfinder.com/"
   ]
  },
  {
   "cell_type": "code",
   "execution_count": 1,
   "metadata": {
    "collapsed": true
   },
   "outputs": [],
   "source": [
    "# imports \n",
    "from bs4 import BeautifulSoup\n",
    "import urllib"
   ]
  },
  {
   "cell_type": "code",
   "execution_count": 7,
   "metadata": {
    "collapsed": true
   },
   "outputs": [],
   "source": [
    "def read_page(url):\n",
    "    r = urllib.urlopen(url).read()\n",
    "    return BeautifulSoup(r,'html.parser')"
   ]
  },
  {
   "cell_type": "code",
   "execution_count": 14,
   "metadata": {
    "collapsed": false
   },
   "outputs": [],
   "source": [
    "#read pages\n",
    "base_url = \"http://www.apartmentfinder.com/Illinois/Chicago-Apartments/Page\"\n",
    "page_lst = [read_page(base_url+str(pageNum)) for pageNum in range(1,31)]"
   ]
  },
  {
   "cell_type": "code",
   "execution_count": 15,
   "metadata": {
    "collapsed": false
   },
   "outputs": [
    {
     "data": {
      "text/plain": [
       "30"
      ]
     },
     "execution_count": 15,
     "metadata": {},
     "output_type": "execute_result"
    }
   ],
   "source": [
    "#len(page_lst)"
   ]
  },
  {
   "cell_type": "code",
   "execution_count": 51,
   "metadata": {
    "collapsed": true
   },
   "outputs": [],
   "source": [
    "# get location\n",
    "def get_location(soup):\n",
    "    return [s.span.text for s in soup.findAll(\"div\", { \"class\" : \"location ellipses row\" })] + [s.div.span.text for s in soup.findAll(\"div\", { \"class\" : \"location row\" })]"
   ]
  },
  {
   "cell_type": "code",
   "execution_count": 62,
   "metadata": {
    "collapsed": true
   },
   "outputs": [],
   "source": [
    "# get rent\n",
    "def get_rent(soup):\n",
    "    return [s.text for s in soup.findAll(\"span\", { \"class\" : \"altRentDisplay\" })]"
   ]
  },
  {
   "cell_type": "code",
   "execution_count": 71,
   "metadata": {
    "collapsed": true
   },
   "outputs": [],
   "source": [
    "# get unit lable\n",
    "def get_unit_label(soup):\n",
    "    return [s.text for s in soup.findAll(\"span\", { \"class\" : \"unitLabel\" })]"
   ]
  },
  {
   "cell_type": "code",
   "execution_count": 65,
   "metadata": {
    "collapsed": false
   },
   "outputs": [],
   "source": [
    "def collect_dat(fun):\n",
    "    lst = []\n",
    "    for soup in page_lst:\n",
    "        lst += fun(soup)\n",
    "    return lst"
   ]
  },
  {
   "cell_type": "code",
   "execution_count": 68,
   "metadata": {
    "collapsed": false
   },
   "outputs": [],
   "source": [
    "location_lst = collect_dat(get_location)"
   ]
  },
  {
   "cell_type": "code",
   "execution_count": null,
   "metadata": {
    "collapsed": true
   },
   "outputs": [],
   "source": [
    "rent_lst = collect_dat(get_rent)"
   ]
  },
  {
   "cell_type": "code",
   "execution_count": 73,
   "metadata": {
    "collapsed": true
   },
   "outputs": [],
   "source": [
    "unit_label_lst = collect_dat(get_unit_label)"
   ]
  },
  {
   "cell_type": "code",
   "execution_count": 84,
   "metadata": {
    "collapsed": false
   },
   "outputs": [
    {
     "data": {
      "text/plain": [
       "True"
      ]
     },
     "execution_count": 84,
     "metadata": {},
     "output_type": "execute_result"
    }
   ],
   "source": [
    "#len(location_lst) == len(rent_lst) == len(unit_label_lst) == 750"
   ]
  },
  {
   "cell_type": "code",
   "execution_count": 97,
   "metadata": {
    "collapsed": false
   },
   "outputs": [],
   "source": [
    "def process_rent(rent):\n",
    "    tmp = rent.strip().replace('$','').replace(',','').split('-')\n",
    "    if len(tmp) == 2:\n",
    "        return (tmp[0].strip(),tmp[1].strip())\n",
    "    elif len(tmp) == 1:\n",
    "        return (tmp[0].strip(),tmp[0].strip())\n",
    "    else:\n",
    "        return (0,0)"
   ]
  },
  {
   "cell_type": "code",
   "execution_count": 101,
   "metadata": {
    "collapsed": true
   },
   "outputs": [],
   "source": [
    "def process_unit_label(unitLabel):\n",
    "    tmp = unitLabel.strip().replace('Beds','').replace('Bed','').split('-')\n",
    "    if len(tmp) == 2:\n",
    "        return (tmp[0].strip(),tmp[1].strip())\n",
    "    elif len(tmp) == 1:\n",
    "        return (tmp[0].strip(),tmp[0].strip())\n",
    "    else:\n",
    "        return (0,0)"
   ]
  },
  {
   "cell_type": "code",
   "execution_count": 98,
   "metadata": {
    "collapsed": false
   },
   "outputs": [],
   "source": [
    "processed_rent_lst = map(process_rent,rent_lst)"
   ]
  },
  {
   "cell_type": "code",
   "execution_count": 102,
   "metadata": {
    "collapsed": false
   },
   "outputs": [],
   "source": [
    "processed_unit_label = map(process_unit_label,unit_label_lst)"
   ]
  },
  {
   "cell_type": "code",
   "execution_count": 114,
   "metadata": {
    "collapsed": true
   },
   "outputs": [],
   "source": [
    "processed_location_lst = map(lambda x : (x.split()[-1].strip(),x), location_lst)"
   ]
  },
  {
   "cell_type": "code",
   "execution_count": 116,
   "metadata": {
    "collapsed": false
   },
   "outputs": [
    {
     "data": {
      "text/plain": [
       "True"
      ]
     },
     "execution_count": 116,
     "metadata": {},
     "output_type": "execute_result"
    }
   ],
   "source": [
    "#len(processed_rent_lst) == len(processed_unit_label) == len(processed_location_lst) == 750"
   ]
  },
  {
   "cell_type": "code",
   "execution_count": 124,
   "metadata": {
    "collapsed": false
   },
   "outputs": [],
   "source": [
    "def covert_to_string(res):\n",
    "    address,rent,beds = res\n",
    "    zipcode,addr = address\n",
    "    min_rent,max_rent = rent\n",
    "    min_bed,max_bed = beds\n",
    "    return format('%s|%s|%s|%s|%s|%s')%(zipcode,addr,min_rent,max_rent,min_bed,max_bed)"
   ]
  },
  {
   "cell_type": "code",
   "execution_count": 118,
   "metadata": {
    "collapsed": true
   },
   "outputs": [],
   "source": [
    "result = zip(processed_location_lst, processed_rent_lst,processed_unit_label)"
   ]
  },
  {
   "cell_type": "code",
   "execution_count": 125,
   "metadata": {
    "collapsed": false
   },
   "outputs": [],
   "source": [
    "result_str = map(covert_to_string,result)"
   ]
  },
  {
   "cell_type": "code",
   "execution_count": 126,
   "metadata": {
    "collapsed": false
   },
   "outputs": [
    {
     "data": {
      "text/plain": [
       "True"
      ]
     },
     "execution_count": 126,
     "metadata": {},
     "output_type": "execute_result"
    }
   ],
   "source": [
    "#len(result_str) == 750"
   ]
  },
  {
   "cell_type": "code",
   "execution_count": 127,
   "metadata": {
    "collapsed": false
   },
   "outputs": [
    {
     "data": {
      "text/plain": [
       "u'60613|833 W Buena Ave, Chicago, IL 60613|1295|1780|1|3'"
      ]
     },
     "execution_count": 127,
     "metadata": {},
     "output_type": "execute_result"
    }
   ],
   "source": [
    "print 'zipCode|Address|minRent|maxRent|minBed|maxBed'"
   ]
  },
  {
   "cell_type": "code",
   "execution_count": null,
   "metadata": {
    "collapsed": true
   },
   "outputs": [],
   "source": [
    "for r in result_str:\n",
    "    print r"
   ]
  }
 ],
 "metadata": {
  "anaconda-cloud": {},
  "kernelspec": {
   "display_name": "Python [Root]",
   "language": "python",
   "name": "Python [Root]"
  },
  "language_info": {
   "codemirror_mode": {
    "name": "ipython",
    "version": 2
   },
   "file_extension": ".py",
   "mimetype": "text/x-python",
   "name": "python",
   "nbconvert_exporter": "python",
   "pygments_lexer": "ipython2",
   "version": "2.7.12"
  }
 },
 "nbformat": 4,
 "nbformat_minor": 0
}
